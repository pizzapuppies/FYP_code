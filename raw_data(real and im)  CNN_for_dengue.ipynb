{
  "nbformat": 4,
  "nbformat_minor": 0,
  "metadata": {
    "colab": {
      "provenance": [],
      "include_colab_link": true
    },
    "kernelspec": {
      "name": "python3",
      "display_name": "Python 3"
    },
    "language_info": {
      "name": "python"
    }
  },
  "cells": [
    {
      "cell_type": "markdown",
      "metadata": {
        "id": "view-in-github",
        "colab_type": "text"
      },
      "source": [
        "<a href=\"https://colab.research.google.com/github/pizzapuppies/FYP_code/blob/main/raw_data(real%20and%20im)%20%20CNN_for_dengue.ipynb\" target=\"_parent\"><img src=\"https://colab.research.google.com/assets/colab-badge.svg\" alt=\"Open In Colab\"/></a>"
      ]
    },
    {
      "cell_type": "markdown",
      "source": [
        "predictive ANN for solution\n"
      ],
      "metadata": {
        "id": "h2F9z_KZUYyq"
      }
    },
    {
      "cell_type": "code",
      "source": [
        "from google.colab import drive\n",
        "import pandas as pd \n",
        "import os\n",
        "import tensorflow as tf\n",
        "import numpy as np  \n",
        "from sklearn.model_selection import train_test_split\n",
        "from sklearn.preprocessing import StandardScaler\n",
        "import csv\n",
        "import random\n",
        "drive.mount('/content/gdrive')"
      ],
      "metadata": {
        "id": "p5hrzLr-gD8i",
        "colab": {
          "base_uri": "https://localhost:8080/"
        },
        "outputId": "932d2900-60cb-4ba9-ee92-8e453a6b4a18"
      },
      "execution_count": 13,
      "outputs": [
        {
          "output_type": "stream",
          "name": "stdout",
          "text": [
            "Drive already mounted at /content/gdrive; to attempt to forcibly remount, call drive.mount(\"/content/gdrive\", force_remount=True).\n"
          ]
        }
      ]
    },
    {
      "cell_type": "code",
      "source": [
        "mat = [[1,2,3],[4,5,6]]\n",
        "\n",
        "def split23(li):\n",
        "  g = []\n",
        "  for i in range(1,len(li),3):\n",
        "    g.append(li[i:i+3])\n",
        "  return g"
      ],
      "metadata": {
        "id": "9OKNg_S92-3n"
      },
      "execution_count": 14,
      "outputs": []
    },
    {
      "cell_type": "code",
      "source": [
        "X = []\n",
        "\n",
        "with open('/content/gdrive/My Drive/FYP Dengue data - Sheet1.csv', 'r') as f:\n",
        "  csv_reader = csv.reader(f, delimiter=',')\n",
        "  line_count = 0\n",
        "    \n",
        "  for i in csv_reader:\n",
        "    if line_count == 0:\n",
        "      for j in range(len(split23(i))):\n",
        "        X.append([])\n",
        "      \n",
        "    line_count += 1\n",
        "    if i[0] in [\"index\",\"conc\",\"label\"]:\n",
        "            if i[0] == \"label\":\n",
        "              y = split23(i)\n",
        "    else:\n",
        "      li = split23(i)\n",
        "      \n",
        "      for ind,dat in enumerate(li):\n",
        "        \n",
        "        X[ind].append(list(map(float,dat[1:])))\n",
        "\n",
        "\n",
        "\n",
        "\n",
        "for i,li in enumerate(y):\n",
        "  if li[0] == \"1\":\n",
        "    y[i] = 1\n",
        "  else:\n",
        "    y[i] = 0\n",
        "\n",
        "X = np.array(X)\n",
        "y = np.array(y)\n",
        "\n",
        "temp = list(zip(X, y))\n",
        "random.shuffle(temp)\n",
        "X, y = zip(*temp)\n",
        "X, y = list(X), list(y)\n",
        "X = np.array(X)\n",
        "y = np.array(y)\n",
        "\n"
      ],
      "metadata": {
        "id": "yWr4SAQGy5pw"
      },
      "execution_count": 15,
      "outputs": []
    },
    {
      "cell_type": "code",
      "source": [
        "#Split training and test data\n",
        "X_train,X_test,Y_train,Y_test = train_test_split( X,y, test_size=0.10)\n",
        "\n",
        "X_train = np.asarray(X_train).astype('float32')\n",
        "X_test = np.asarray(X_test).astype('float32')\n",
        "Y_train = np.asarray(Y_train).astype('float32').reshape((-1,1))\n",
        "Y_test = np.asarray(Y_test).astype('float32').reshape((-1,1))\n",
        "print(X_train[0])\n",
        "print(Y_train[0])\n",
        "print(\"\\nTrain Test Dimensions:\\n------------------------------------\")\n",
        "print(\"shape of training set\",X_train.shape, Y_train.shape)\n",
        "print(\"shape of testing set\",X_test.shape, Y_test.shape)"
      ],
      "metadata": {
        "colab": {
          "base_uri": "https://localhost:8080/"
        },
        "id": "auzzSNnDfjLP",
        "outputId": "57b139ed-c143-4185-ba48-39266e3cf150"
      },
      "execution_count": 16,
      "outputs": [
        {
          "output_type": "stream",
          "name": "stdout",
          "text": [
            "[[4.51805e+02 7.73061e+00]\n",
            " [4.51354e+02 5.80721e+00]\n",
            " [4.51415e+02 4.70664e+00]\n",
            " [4.55424e+02 9.58890e+00]\n",
            " [4.54344e+02 7.24787e+00]\n",
            " [4.53938e+02 5.79097e+00]\n",
            " [4.53781e+02 4.89459e+00]\n",
            " [4.53845e+02 4.34783e+00]\n",
            " [4.53117e+02 4.42568e+00]\n",
            " [4.53754e+02 4.46184e+00]\n",
            " [4.54297e+02 4.71363e+00]\n",
            " [4.54628e+02 5.29026e+00]\n",
            " [4.55060e+02 6.31011e+00]\n",
            " [4.55577e+02 7.62420e+00]\n",
            " [4.56224e+02 9.41864e+00]\n",
            " [4.57082e+02 1.17204e+01]\n",
            " [4.58105e+02 1.45574e+01]\n",
            " [4.59402e+02 1.81449e+01]\n",
            " [4.60885e+02 2.26857e+01]\n",
            " [4.62698e+02 2.85078e+01]\n",
            " [4.64639e+02 3.59835e+01]\n",
            " [4.66799e+02 4.57299e+01]\n",
            " [4.69067e+02 5.85514e+01]\n",
            " [4.71889e+02 7.57609e+01]\n",
            " [4.75299e+02 9.86788e+01]\n",
            " [4.80120e+02 1.29227e+02]\n",
            " [4.87916e+02 1.70099e+02]\n",
            " [4.99359e+02 2.23916e+02]\n",
            " [5.17790e+02 2.92961e+02]\n",
            " [5.46207e+02 3.81568e+02]\n",
            " [5.89197e+02 4.91242e+02]\n",
            " [6.54182e+02 6.25248e+02]\n",
            " [7.46087e+02 7.85642e+02]\n",
            " [8.73144e+02 9.73432e+02]\n",
            " [1.05023e+03 1.18998e+03]\n",
            " [1.28416e+03 1.42427e+03]\n",
            " [1.59549e+03 1.66575e+03]\n",
            " [1.98418e+03 1.88703e+03]\n",
            " [2.43887e+03 2.05947e+03]\n",
            " [2.94321e+03 2.16096e+03]\n",
            " [3.45101e+03 2.19037e+03]\n",
            " [3.93798e+03 2.15943e+03]\n",
            " [4.38172e+03 2.09360e+03]\n",
            " [4.78462e+03 2.00548e+03]\n",
            " [5.13387e+03 1.96934e+03]\n",
            " [5.45941e+03 1.90700e+03]\n",
            " [5.78355e+03 1.89493e+03]\n",
            " [6.05942e+03 1.96112e+03]\n",
            " [6.58250e+03 1.99520e+03]\n",
            " [6.55147e+03 2.04901e+03]]\n",
            "[1.]\n",
            "\n",
            "Train Test Dimensions:\n",
            "------------------------------------\n",
            "shape of training set (126, 50, 2) (126, 1)\n",
            "shape of testing set (14, 50, 2) (14, 1)\n"
          ]
        }
      ]
    },
    {
      "cell_type": "code",
      "source": [
        "from tensorflow import keras\n",
        "\n"
      ],
      "metadata": {
        "id": "ysm1zZ-IjZ3o"
      },
      "execution_count": 17,
      "outputs": []
    },
    {
      "cell_type": "code",
      "source": [
        "#Create a sequencial model in Keras\n",
        "model = tf.keras.models.Sequential()"
      ],
      "metadata": {
        "id": "GlsVMt2wjaXH"
      },
      "execution_count": 18,
      "outputs": []
    },
    {
      "cell_type": "code",
      "source": [
        "#Add the first hidden layer\n",
        "model.add(keras.layers.Dense(128,         #Number of nodes\n",
        "                        input_shape=(50,2), #Number of input variables\n",
        "                        name='Hidden-Layer-1', #Logical name\n",
        "                        activation='relu'))    #activation function\n",
        "\n",
        "#Add a second hidden layer\n",
        "model.add(keras.layers.Dense(128,\n",
        "                              name='Hidden-Layer-2',\n",
        "                              activation='relu'))\n",
        "\n",
        "model.add(tf.keras.layers.Conv1D(\n",
        "    2,3,activation='relu'\n",
        "))\n",
        "model.add(tf.keras.layers.Flatten())\n",
        "\n",
        "#Add a second hidden layer\n",
        "model.add(keras.layers.Dense(128,\n",
        "                              name='Hidden-Layer-3',\n",
        "                              activation='relu'))\n",
        "\n",
        "\n",
        "\n",
        "#Add a second hidden layer\n",
        "model.add(keras.layers.Dense(128,\n",
        "                              name='Hidden-Layer-4',\n",
        "                              activation='relu'))\n",
        "\n",
        "\n"
      ],
      "metadata": {
        "id": "ETzVjDvkjdTf"
      },
      "execution_count": 19,
      "outputs": []
    },
    {
      "cell_type": "code",
      "source": [
        "model.add(keras.layers.Dense(1,\n",
        "                             name='Output-Layer',\n",
        "                             activation='sigmoid'))\n",
        "\n",
        "#model.summary()"
      ],
      "metadata": {
        "id": "laqcu6Fqjfd1"
      },
      "execution_count": 20,
      "outputs": []
    },
    {
      "cell_type": "code",
      "source": [
        "#Compile the model with loss & metrics\n",
        "model.compile(loss= tf.keras.losses.BinaryCrossentropy() ,\n",
        "              metrics=['accuracy'])"
      ],
      "metadata": {
        "id": "CbUMQ0AAj3zK"
      },
      "execution_count": 21,
      "outputs": []
    },
    {
      "cell_type": "code",
      "source": [
        "#Make it verbose so we can see the progress\n",
        "VERBOSE=1\n",
        "\n",
        "#Setup Hyper Parameters for training\n",
        "\n",
        "#Set Batch size\n",
        "BATCH_SIZE=10\n",
        "#Set number of epochs\n",
        "EPOCHS=20\n",
        "#Set validation split. 20% of the training data will be used for validation\n",
        "#after each epoch\n",
        "VALIDATION_SPLIT=0.2\n",
        "\n",
        "print(\"\\nTraining Progress:\\n------------------------------------\")\n",
        "#Fit the model. This will perform the entire training cycle, including\n",
        "#forward propagation, loss computation, backward propagation and gradient descent.\n",
        "#Execute for the specified batch sizes and epoch\n",
        "#Perform validation after each epoch \n",
        "history=model.fit(X_train,\n",
        "          Y_train,\n",
        "          batch_size=BATCH_SIZE,\n",
        "          epochs=EPOCHS,\n",
        "          verbose=VERBOSE,\n",
        "          validation_split=VALIDATION_SPLIT)"
      ],
      "metadata": {
        "colab": {
          "base_uri": "https://localhost:8080/"
        },
        "id": "S4-jxaSdj6qN",
        "outputId": "22fe2bda-eddf-47f7-db91-40efad905f53"
      },
      "execution_count": 22,
      "outputs": [
        {
          "output_type": "stream",
          "name": "stdout",
          "text": [
            "\n",
            "Training Progress:\n",
            "------------------------------------\n",
            "Epoch 1/20\n",
            "10/10 [==============================] - 1s 35ms/step - loss: 1.4415 - accuracy: 0.4000 - val_loss: 0.6932 - val_accuracy: 0.4615\n",
            "Epoch 2/20\n",
            "10/10 [==============================] - 0s 11ms/step - loss: 0.6938 - accuracy: 0.4800 - val_loss: 0.6932 - val_accuracy: 0.4615\n",
            "Epoch 3/20\n",
            "10/10 [==============================] - 0s 11ms/step - loss: 0.6934 - accuracy: 0.4800 - val_loss: 0.6932 - val_accuracy: 0.4615\n",
            "Epoch 4/20\n",
            "10/10 [==============================] - 0s 10ms/step - loss: 0.6939 - accuracy: 0.5000 - val_loss: 0.6934 - val_accuracy: 0.4615\n",
            "Epoch 5/20\n",
            "10/10 [==============================] - 0s 10ms/step - loss: 0.6938 - accuracy: 0.4400 - val_loss: 0.6932 - val_accuracy: 0.4615\n",
            "Epoch 6/20\n",
            "10/10 [==============================] - 0s 10ms/step - loss: 0.6937 - accuracy: 0.4400 - val_loss: 0.6932 - val_accuracy: 0.4615\n",
            "Epoch 7/20\n",
            "10/10 [==============================] - 0s 10ms/step - loss: 0.6936 - accuracy: 0.4600 - val_loss: 0.6932 - val_accuracy: 0.4615\n",
            "Epoch 8/20\n",
            "10/10 [==============================] - 0s 9ms/step - loss: 0.6938 - accuracy: 0.4200 - val_loss: 0.6931 - val_accuracy: 0.5385\n",
            "Epoch 9/20\n",
            "10/10 [==============================] - 0s 11ms/step - loss: 0.6934 - accuracy: 0.4800 - val_loss: 0.6930 - val_accuracy: 0.5385\n",
            "Epoch 10/20\n",
            "10/10 [==============================] - 0s 10ms/step - loss: 0.6935 - accuracy: 0.4200 - val_loss: 0.6931 - val_accuracy: 0.5385\n",
            "Epoch 11/20\n",
            "10/10 [==============================] - 0s 9ms/step - loss: 0.6938 - accuracy: 0.4400 - val_loss: 0.6931 - val_accuracy: 0.5385\n",
            "Epoch 12/20\n",
            "10/10 [==============================] - 0s 10ms/step - loss: 0.6934 - accuracy: 0.4400 - val_loss: 0.6931 - val_accuracy: 0.5385\n",
            "Epoch 13/20\n",
            "10/10 [==============================] - 0s 12ms/step - loss: 0.6935 - accuracy: 0.4800 - val_loss: 0.6931 - val_accuracy: 0.5385\n",
            "Epoch 14/20\n",
            "10/10 [==============================] - 0s 11ms/step - loss: 0.6934 - accuracy: 0.4600 - val_loss: 0.6931 - val_accuracy: 0.5385\n",
            "Epoch 15/20\n",
            "10/10 [==============================] - 0s 11ms/step - loss: 0.6934 - accuracy: 0.4200 - val_loss: 0.6931 - val_accuracy: 0.5385\n",
            "Epoch 16/20\n",
            "10/10 [==============================] - 0s 9ms/step - loss: 0.6935 - accuracy: 0.5000 - val_loss: 0.6931 - val_accuracy: 0.5385\n",
            "Epoch 17/20\n",
            "10/10 [==============================] - 0s 11ms/step - loss: 0.6933 - accuracy: 0.4600 - val_loss: 0.6931 - val_accuracy: 0.5385\n",
            "Epoch 18/20\n",
            "10/10 [==============================] - 0s 9ms/step - loss: 0.6936 - accuracy: 0.5000 - val_loss: 0.6930 - val_accuracy: 0.5385\n",
            "Epoch 19/20\n",
            "10/10 [==============================] - 0s 9ms/step - loss: 0.6934 - accuracy: 0.4600 - val_loss: 0.6930 - val_accuracy: 0.5385\n",
            "Epoch 20/20\n",
            "10/10 [==============================] - 0s 10ms/step - loss: 0.6935 - accuracy: 0.4200 - val_loss: 0.6930 - val_accuracy: 0.5385\n"
          ]
        }
      ]
    },
    {
      "cell_type": "code",
      "source": [
        "#Evaluate the model against the test dataset and print results\n",
        "print(\"\\nEvaluation against Test Dataset :\\n------------------------------------\")\n",
        "model.evaluate(X_test,Y_test)"
      ],
      "metadata": {
        "id": "qyfy9ghzj9yd",
        "colab": {
          "base_uri": "https://localhost:8080/"
        },
        "outputId": "a77ad57a-16a2-4621-f1c8-ba0a1b1ff47a"
      },
      "execution_count": 23,
      "outputs": [
        {
          "output_type": "stream",
          "name": "stdout",
          "text": [
            "\n",
            "Evaluation against Test Dataset :\n",
            "------------------------------------\n",
            "1/1 [==============================] - 0s 22ms/step - loss: 0.6934 - accuracy: 0.4286\n"
          ]
        },
        {
          "output_type": "execute_result",
          "data": {
            "text/plain": [
              "[0.693438708782196, 0.4285714328289032]"
            ]
          },
          "metadata": {},
          "execution_count": 23
        }
      ]
    },
    {
      "cell_type": "code",
      "source": [
        "print(\"\\nAccuracy during Training :\\n------------------------------------\")\n",
        "import matplotlib.pyplot as plt\n",
        "\n",
        "#Plot accuracy of the model after each epoch.\n",
        "pd.DataFrame(history.history)[\"accuracy\"].plot(figsize=(8, 5))\n",
        "plt.title(\"Accuracy improvements with Epoch\")\n",
        "plt.show()"
      ],
      "metadata": {
        "colab": {
          "base_uri": "https://localhost:8080/",
          "height": 390
        },
        "id": "NljbLN33pTGq",
        "outputId": "d077cf08-7615-4b74-f1dc-cc7610297028"
      },
      "execution_count": 24,
      "outputs": [
        {
          "output_type": "stream",
          "name": "stdout",
          "text": [
            "\n",
            "Accuracy during Training :\n",
            "------------------------------------\n"
          ]
        },
        {
          "output_type": "display_data",
          "data": {
            "text/plain": [
              "<Figure size 576x360 with 1 Axes>"
            ],
            "image/png": "[encoded data removed]"
          },
          "metadata": {
            "needs_background": "light"
          }
        }
      ]
    }
  ]
}
{
  "nbformat": 4,
  "nbformat_minor": 0,
  "metadata": {
    "colab": {
      "provenance": [],
      "include_colab_link": true
    },
    "kernelspec": {
      "name": "python3",
      "display_name": "Python 3"
    },
    "language_info": {
      "name": "python"
    }
  },
  "cells": [
    {
      "cell_type": "markdown",
      "metadata": {
        "id": "view-in-github",
        "colab_type": "text"
      },
      "source": [
        "<a href=\"https://colab.research.google.com/github/pizzapuppies/Usif_FYP_code/blob/main/raw_data(complex)%20CNN_for_dengue.ipynb\" target=\"_parent\"><img src=\"https://colab.research.google.com/assets/colab-badge.svg\" alt=\"Open In Colab\"/></a>"
      ]
    },
    {
      "cell_type": "markdown",
      "source": [
        "predictive ANN for solution\n"
      ],
      "metadata": {
        "id": "h2F9z_KZUYyq"
      }
    },
    {
      "cell_type": "code",
      "source": [
        "! pip install impedance"
      ],
      "metadata": {
        "colab": {
          "base_uri": "https://localhost:8080/"
        },
        "id": "K5yS4kCjFFnz",
        "outputId": "0152e620-518a-41ee-8cd2-a7e915597c24"
      },
      "execution_count": 13,
      "outputs": [
        {
          "output_type": "stream",
          "name": "stdout",
          "text": [
            "Looking in indexes: https://pypi.org/simple, https://us-python.pkg.dev/colab-wheels/public/simple/\n",
            "Requirement already satisfied: impedance in /usr/local/lib/python3.8/dist-packages (1.4.1)\n",
            "Requirement already satisfied: numpy>=1.14 in /usr/local/lib/python3.8/dist-packages (from impedance) (1.21.6)\n",
            "Requirement already satisfied: altair>=3.0 in /usr/local/lib/python3.8/dist-packages (from impedance) (4.2.0)\n",
            "Requirement already satisfied: matplotlib>=3.0 in /usr/local/lib/python3.8/dist-packages (from impedance) (3.2.2)\n",
            "Requirement already satisfied: scipy>=1.0 in /usr/local/lib/python3.8/dist-packages (from impedance) (1.7.3)\n",
            "Requirement already satisfied: entrypoints in /usr/local/lib/python3.8/dist-packages (from altair>=3.0->impedance) (0.4)\n",
            "Requirement already satisfied: jinja2 in /usr/local/lib/python3.8/dist-packages (from altair>=3.0->impedance) (2.11.3)\n",
            "Requirement already satisfied: toolz in /usr/local/lib/python3.8/dist-packages (from altair>=3.0->impedance) (0.12.0)\n",
            "Requirement already satisfied: jsonschema>=3.0 in /usr/local/lib/python3.8/dist-packages (from altair>=3.0->impedance) (4.3.3)\n",
            "Requirement already satisfied: pandas>=0.18 in /usr/local/lib/python3.8/dist-packages (from altair>=3.0->impedance) (1.3.5)\n",
            "Requirement already satisfied: importlib-resources>=1.4.0 in /usr/local/lib/python3.8/dist-packages (from jsonschema>=3.0->altair>=3.0->impedance) (5.10.0)\n",
            "Requirement already satisfied: attrs>=17.4.0 in /usr/local/lib/python3.8/dist-packages (from jsonschema>=3.0->altair>=3.0->impedance) (22.1.0)\n",
            "Requirement already satisfied: pyrsistent!=0.17.0,!=0.17.1,!=0.17.2,>=0.14.0 in /usr/local/lib/python3.8/dist-packages (from jsonschema>=3.0->altair>=3.0->impedance) (0.19.2)\n",
            "Requirement already satisfied: zipp>=3.1.0 in /usr/local/lib/python3.8/dist-packages (from importlib-resources>=1.4.0->jsonschema>=3.0->altair>=3.0->impedance) (3.10.0)\n",
            "Requirement already satisfied: python-dateutil>=2.1 in /usr/local/lib/python3.8/dist-packages (from matplotlib>=3.0->impedance) (2.8.2)\n",
            "Requirement already satisfied: pyparsing!=2.0.4,!=2.1.2,!=2.1.6,>=2.0.1 in /usr/local/lib/python3.8/dist-packages (from matplotlib>=3.0->impedance) (3.0.9)\n",
            "Requirement already satisfied: kiwisolver>=1.0.1 in /usr/local/lib/python3.8/dist-packages (from matplotlib>=3.0->impedance) (1.4.4)\n",
            "Requirement already satisfied: cycler>=0.10 in /usr/local/lib/python3.8/dist-packages (from matplotlib>=3.0->impedance) (0.11.0)\n",
            "Requirement already satisfied: pytz>=2017.3 in /usr/local/lib/python3.8/dist-packages (from pandas>=0.18->altair>=3.0->impedance) (2022.6)\n",
            "Requirement already satisfied: six>=1.5 in /usr/local/lib/python3.8/dist-packages (from python-dateutil>=2.1->matplotlib>=3.0->impedance) (1.15.0)\n",
            "Requirement already satisfied: MarkupSafe>=0.23 in /usr/local/lib/python3.8/dist-packages (from jinja2->altair>=3.0->impedance) (2.0.1)\n"
          ]
        }
      ]
    },
    {
      "cell_type": "code",
      "source": [
        "from google.colab import drive\n",
        "import pandas as pd \n",
        "import os\n",
        "import tensorflow as tf\n",
        "import numpy as np  \n",
        "from sklearn.model_selection import train_test_split\n",
        "from sklearn.preprocessing import StandardScaler\n",
        "import csv\n",
        "import random\n",
        "\n",
        "import sys\n",
        "from impedance.models.circuits import Randles\n",
        "\n",
        "drive.mount('/content/gdrive')"
      ],
      "metadata": {
        "id": "p5hrzLr-gD8i",
        "colab": {
          "base_uri": "https://localhost:8080/"
        },
        "outputId": "312de6f2-79fc-4ca3-c082-cb9f7c8ffa96"
      },
      "execution_count": 14,
      "outputs": [
        {
          "output_type": "stream",
          "name": "stdout",
          "text": [
            "Drive already mounted at /content/gdrive; to attempt to forcibly remount, call drive.mount(\"/content/gdrive\", force_remount=True).\n"
          ]
        }
      ]
    },
    {
      "cell_type": "code",
      "source": [
        "mat = [[1,2,3],[4,5,6]]\n",
        "\n",
        "def split23(li):\n",
        "  g = []\n",
        "  for i in range(1,len(li),3):\n",
        "    g.append(li[i:i+3])\n",
        "  return g"
      ],
      "metadata": {
        "id": "9OKNg_S92-3n"
      },
      "execution_count": 15,
      "outputs": []
    },
    {
      "cell_type": "code",
      "source": [
        "X = []\n",
        "\n",
        "with open('/content/gdrive/My Drive/FYP Dengue data - Sheet1.csv', 'r') as f:\n",
        "  csv_reader = csv.reader(f, delimiter=',')\n",
        "  line_count = 0\n",
        "    \n",
        "  for i in csv_reader:\n",
        "    if line_count == 0:\n",
        "      for j in range(len(split23(i))):\n",
        "        X.append([])\n",
        "      \n",
        "    line_count += 1\n",
        "    if i[0] in [\"index\",\"conc\",\"label\"]:\n",
        "            if i[0] == \"label\":\n",
        "              y = split23(i)\n",
        "    else:\n",
        "      li = split23(i)\n",
        "      \n",
        "      for ind,dat in enumerate(li):\n",
        "        com = list(map(float,dat[1:]))\n",
        "        X[ind].append(complex(com[0],com[1]))\n",
        "        \n",
        "\n",
        "\n",
        "\n",
        "for i,li in enumerate(y):\n",
        "  if li[0] == \"1\":\n",
        "    y[i] = 1\n",
        "  else:\n",
        "    y[i] = 0\n",
        "\n",
        "X = np.array(X)\n",
        "y = np.array(y)\n",
        "\n",
        "temp = list(zip(X, y))\n",
        "random.shuffle(temp)\n",
        "X, y = zip(*temp)\n",
        "X, y = list(X), list(y)\n",
        "X = np.array(X).astype('complex')\n",
        "y = np.array(y)"
      ],
      "metadata": {
        "id": "yWr4SAQGy5pw"
      },
      "execution_count": 16,
      "outputs": []
    },
    {
      "cell_type": "markdown",
      "source": [
        "impedance py did the math but did not output the parameters"
      ],
      "metadata": {
        "id": "vxFRYUBe3w-K"
      }
    },
    {
      "cell_type": "code",
      "source": [
        "#Split training and test data\n",
        "X_train,X_test,Y_train,Y_test = train_test_split( X,y, test_size=0.10)\n",
        "\n",
        "X_train = np.asarray(X_train).astype('complex')\n",
        "X_test = np.asarray(X_test).astype('complex')\n",
        "Y_train = np.asarray(Y_train).astype('float32').reshape((-1,1))\n",
        "Y_test = np.asarray(Y_test).astype('float32').reshape((-1,1))\n",
        "print(X_train[0])\n",
        "print(Y_train[0])\n",
        "\n",
        "print(\"\\nTrain Test Dimensions:\\n------------------------------------\")\n",
        "print(\"shape of training set\",X_train.shape, Y_train.shape)\n",
        "print(\"shape of testing set\",X_test.shape, Y_test.shape)"
      ],
      "metadata": {
        "id": "auzzSNnDfjLP",
        "colab": {
          "base_uri": "https://localhost:8080/"
        },
        "outputId": "6ff2c6b3-5ca2-4cc1-dff5-e22cb9ac4ec7"
      },
      "execution_count": 17,
      "outputs": [
        {
          "output_type": "stream",
          "name": "stdout",
          "text": [
            "[ 415.179   +5.83499j  415.073   +4.75574j  415.271   +3.7025j\n",
            "  418.681   +8.65149j  417.649   +6.74233j  417.153   +5.98543j\n",
            "  416.97    +5.66394j  417.008   +5.98184j  416.871   +6.75386j\n",
            "  417.272   +7.86841j  418.197   +9.57531j  419.022  +11.7706j\n",
            "  420.092  +14.5292j   421.406  +18.0516j   422.983  +22.4553j\n",
            "  424.837  +28.0414j   426.946  +35.1557j   429.221  +44.3509j\n",
            "  431.58   +56.3431j   434.238  +72.4773j   437.278  +94.1316j\n",
            "  441.309 +123.166j    447.313 +162.029j    456.571 +213.945j\n",
            "  470.825 +281.991j    493.845 +370.699j    528.735 +484.23j\n",
            "  586.772 +628.388j    677.189 +806.629j    816.265+1018.37j\n",
            " 1024.87 +1257.01j    1315.49 +1500.01j    1701.98 +1710.21j\n",
            " 2161.49 +1847.79j    2650.48 +1882.3j     3124.29 +1822.62j\n",
            " 3538.56 +1692.71j    3874.28 +1526.82j    4145.42 +1363.14j\n",
            " 4373.84 +1226.47j    4554.59 +1108.83j    4714.33 +1043.52j\n",
            " 4864.71 +1000.46j    5018.51  +984.901j   5170.03 +1000.86j\n",
            " 5327.74 +1052.18j       0.      +0.j         0.      +0.j\n",
            "    0.      +0.j         0.      +0.j     ]\n",
            "[0.]\n",
            "\n",
            "Train Test Dimensions:\n",
            "------------------------------------\n",
            "shape of training set (126, 50) (126, 1)\n",
            "shape of testing set (14, 50) (14, 1)\n"
          ]
        }
      ]
    },
    {
      "cell_type": "code",
      "source": [
        "from tensorflow import keras\n",
        "\n"
      ],
      "metadata": {
        "id": "ysm1zZ-IjZ3o"
      },
      "execution_count": 18,
      "outputs": []
    },
    {
      "cell_type": "code",
      "source": [
        "#Create a sequencial model in Keras\n",
        "model = tf.keras.models.Sequential()"
      ],
      "metadata": {
        "id": "GlsVMt2wjaXH"
      },
      "execution_count": 19,
      "outputs": []
    },
    {
      "cell_type": "code",
      "source": [
        "#Add the first hidden layer\n",
        "model.add(keras.layers.Dense(128,         #Number of nodes\n",
        "                        input_shape=(50,1), #Number of input variables\n",
        "                        name='Hidden-Layer-1', #Logical name\n",
        "                        activation='relu'))    #activation function\n",
        "\n",
        "#Add a second hidden layer\n",
        "model.add(keras.layers.Dense(128,\n",
        "                              name='Hidden-Layer-2',\n",
        "                              activation='relu'))\n",
        "\n",
        "model.add(tf.keras.layers.Conv1D(\n",
        "    2,3,activation='relu'\n",
        "))\n",
        "model.add(tf.keras.layers.Flatten())\n",
        "\n",
        "#Add a second hidden layer\n",
        "model.add(keras.layers.Dense(128,\n",
        "                              name='Hidden-Layer-3',\n",
        "                              activation='relu'))\n",
        "\n",
        "\n",
        "\n",
        "#Add a second hidden layer\n",
        "model.add(keras.layers.Dense(128,\n",
        "                              name='Hidden-Layer-4',\n",
        "                              activation='relu'))\n",
        "\n",
        "\n"
      ],
      "metadata": {
        "id": "ETzVjDvkjdTf"
      },
      "execution_count": 20,
      "outputs": []
    },
    {
      "cell_type": "code",
      "source": [
        "model.add(keras.layers.Dense(1,\n",
        "                             name='Output-Layer',\n",
        "                             activation='sigmoid'))\n",
        "\n",
        "#model.summary()"
      ],
      "metadata": {
        "id": "laqcu6Fqjfd1"
      },
      "execution_count": 21,
      "outputs": []
    },
    {
      "cell_type": "code",
      "source": [
        "#Compile the model with loss & metrics\n",
        "model.compile(loss= tf.keras.losses.BinaryCrossentropy() ,\n",
        "              metrics=['accuracy'])"
      ],
      "metadata": {
        "id": "CbUMQ0AAj3zK"
      },
      "execution_count": 22,
      "outputs": []
    },
    {
      "cell_type": "code",
      "source": [
        "#Make it verbose so we can see the progress\n",
        "VERBOSE=1\n",
        "\n",
        "#Setup Hyper Parameters for training\n",
        "\n",
        "#Set Batch size\n",
        "BATCH_SIZE=10\n",
        "#Set number of epochs\n",
        "EPOCHS=20\n",
        "#Set validation split. 20% of the training data will be used for validation\n",
        "#after each epoch\n",
        "VALIDATION_SPLIT=0.2\n",
        "\n",
        "print(\"\\nTraining Progress:\\n------------------------------------\")\n",
        "#Fit the model. This will perform the entire training cycle, including\n",
        "#forward propagation, loss computation, backward propagation and gradient descent.\n",
        "#Execute for the specified batch sizes and epoch\n",
        "#Perform validation after each epoch \n",
        "history=model.fit(X_train,\n",
        "          Y_train,\n",
        "          batch_size=BATCH_SIZE,\n",
        "          epochs=EPOCHS,\n",
        "          verbose=VERBOSE,\n",
        "          validation_split=VALIDATION_SPLIT)"
      ],
      "metadata": {
        "id": "S4-jxaSdj6qN",
        "colab": {
          "base_uri": "https://localhost:8080/"
        },
        "outputId": "a09a80f8-4910-4828-d4ab-692010b8122a"
      },
      "execution_count": 23,
      "outputs": [
        {
          "output_type": "stream",
          "name": "stdout",
          "text": [
            "\n",
            "Training Progress:\n",
            "------------------------------------\n",
            "Epoch 1/20\n",
            "10/10 [==============================] - 2s 43ms/step - loss: 3.8575 - accuracy: 0.4400 - val_loss: 0.6932 - val_accuracy: 0.5000\n",
            "Epoch 2/20\n",
            "10/10 [==============================] - 0s 14ms/step - loss: 0.6933 - accuracy: 0.5100 - val_loss: 0.6932 - val_accuracy: 0.5000\n",
            "Epoch 3/20\n",
            "10/10 [==============================] - 0s 13ms/step - loss: 0.6938 - accuracy: 0.5100 - val_loss: 0.6932 - val_accuracy: 0.5000\n",
            "Epoch 4/20\n",
            "10/10 [==============================] - 0s 10ms/step - loss: 0.6933 - accuracy: 0.5100 - val_loss: 0.6932 - val_accuracy: 0.5000\n",
            "Epoch 5/20\n",
            "10/10 [==============================] - 0s 16ms/step - loss: 0.6935 - accuracy: 0.5100 - val_loss: 0.6932 - val_accuracy: 0.5000\n",
            "Epoch 6/20\n",
            "10/10 [==============================] - 0s 17ms/step - loss: 0.6932 - accuracy: 0.5100 - val_loss: 0.6932 - val_accuracy: 0.5000\n",
            "Epoch 7/20\n",
            "10/10 [==============================] - 0s 14ms/step - loss: 0.6931 - accuracy: 0.5100 - val_loss: 0.6932 - val_accuracy: 0.5000\n",
            "Epoch 8/20\n",
            "10/10 [==============================] - 0s 11ms/step - loss: 0.6936 - accuracy: 0.4900 - val_loss: 0.6932 - val_accuracy: 0.5000\n",
            "Epoch 9/20\n",
            "10/10 [==============================] - 0s 10ms/step - loss: 0.6936 - accuracy: 0.5100 - val_loss: 0.6932 - val_accuracy: 0.5000\n",
            "Epoch 10/20\n",
            "10/10 [==============================] - 0s 11ms/step - loss: 0.6936 - accuracy: 0.5100 - val_loss: 0.6932 - val_accuracy: 0.5000\n",
            "Epoch 11/20\n",
            "10/10 [==============================] - 0s 14ms/step - loss: 0.6934 - accuracy: 0.5100 - val_loss: 0.6932 - val_accuracy: 0.5000\n",
            "Epoch 12/20\n",
            "10/10 [==============================] - 0s 10ms/step - loss: 0.6931 - accuracy: 0.5100 - val_loss: 0.6933 - val_accuracy: 0.5000\n",
            "Epoch 13/20\n",
            "10/10 [==============================] - 0s 10ms/step - loss: 0.6933 - accuracy: 0.5100 - val_loss: 0.6933 - val_accuracy: 0.5000\n",
            "Epoch 14/20\n",
            "10/10 [==============================] - 0s 12ms/step - loss: 0.6934 - accuracy: 0.5100 - val_loss: 0.6932 - val_accuracy: 0.5000\n",
            "Epoch 15/20\n",
            "10/10 [==============================] - 0s 11ms/step - loss: 0.6932 - accuracy: 0.5100 - val_loss: 0.6933 - val_accuracy: 0.5000\n",
            "Epoch 16/20\n",
            "10/10 [==============================] - 0s 12ms/step - loss: 0.6933 - accuracy: 0.5100 - val_loss: 0.6933 - val_accuracy: 0.5000\n",
            "Epoch 17/20\n",
            "10/10 [==============================] - 0s 13ms/step - loss: 0.6935 - accuracy: 0.5100 - val_loss: 0.6932 - val_accuracy: 0.5000\n",
            "Epoch 18/20\n",
            "10/10 [==============================] - 0s 12ms/step - loss: 0.6934 - accuracy: 0.5100 - val_loss: 0.6933 - val_accuracy: 0.5000\n",
            "Epoch 19/20\n",
            "10/10 [==============================] - 0s 10ms/step - loss: 0.6933 - accuracy: 0.5100 - val_loss: 0.6933 - val_accuracy: 0.5000\n",
            "Epoch 20/20\n",
            "10/10 [==============================] - 0s 12ms/step - loss: 0.6937 - accuracy: 0.5100 - val_loss: 0.6933 - val_accuracy: 0.5000\n"
          ]
        }
      ]
    },
    {
      "cell_type": "code",
      "source": [
        "#Evaluate the model against the test dataset and print results\n",
        "print(\"\\nEvaluation against Test Dataset :\\n------------------------------------\")\n",
        "z = model.evaluate(X_test,Y_test)\n",
        "print(\"The accuracy of the model is \",round(z[1]*100),\" %\")"
      ],
      "metadata": {
        "id": "qyfy9ghzj9yd",
        "colab": {
          "base_uri": "https://localhost:8080/"
        },
        "outputId": "0049d352-ce78-4ac6-f4e7-bf99b351bbcc"
      },
      "execution_count": 24,
      "outputs": [
        {
          "output_type": "stream",
          "name": "stdout",
          "text": [
            "\n",
            "Evaluation against Test Dataset :\n",
            "------------------------------------\n",
            "1/1 [==============================] - 0s 46ms/step - loss: 0.6956 - accuracy: 0.4286\n",
            "The accuracy of the model is  43  %\n"
          ]
        }
      ]
    },
    {
      "cell_type": "code",
      "source": [
        "print(\"\\nAccuracy during Training :\\n------------------------------------\")\n",
        "import matplotlib.pyplot as plt\n",
        "\n",
        "#Plot accuracy of the model after each epoch.\n",
        "pd.DataFrame(history.history)[\"accuracy\"].plot(figsize=(8, 5))\n",
        "plt.title(\"Accuracy improvements with Epoch\")\n",
        "plt.show()"
      ],
      "metadata": {
        "id": "NljbLN33pTGq",
        "colab": {
          "base_uri": "https://localhost:8080/",
          "height": 389
        },
        "outputId": "8ce59d76-aa84-4a55-ac9d-1f4c60fae23f"
      },
      "execution_count": 25,
      "outputs": [
        {
          "output_type": "stream",
          "name": "stdout",
          "text": [
            "\n",
            "Accuracy during Training :\n",
            "------------------------------------\n"
          ]
        },
        {
          "output_type": "display_data",
          "data": {
            "text/plain": [
              "<Figure size 576x360 with 1 Axes>"
            ],
            "image/png": "[encoded data removed]"
          },
          "metadata": {
            "needs_background": "light"
          }
        }
      ]
    }
  ]
}
{
  "nbformat": 4,
  "nbformat_minor": 0,
  "metadata": {
    "colab": {
      "provenance": [],
      "include_colab_link": true
    },
    "kernelspec": {
      "name": "python3",
      "display_name": "Python 3"
    },
    "language_info": {
      "name": "python"
    }
  },
  "cells": [
    {
      "cell_type": "markdown",
      "metadata": {
        "id": "view-in-github",
        "colab_type": "text"
      },
      "source": [
        "<a href=\"https://colab.research.google.com/github/pizzapuppies/FYP_code/blob/main/binary_CNN_for_dengue.ipynb\" target=\"_parent\"><img src=\"https://colab.research.google.com/assets/colab-badge.svg\" alt=\"Open In Colab\"/></a>"
      ]
    },
    {
      "cell_type": "markdown",
      "source": [
        "predictive ANN for solution\n"
      ],
      "metadata": {
        "id": "h2F9z_KZUYyq"
      }
    },
    {
      "cell_type": "code",
      "source": [
        "! pip install impedance"
      ],
      "metadata": {
        "colab": {
          "base_uri": "https://localhost:8080/"
        },
        "id": "K5yS4kCjFFnz",
        "outputId": "89c85c2c-97b7-4a41-9d86-6346150bac2c"
      },
      "execution_count": 2,
      "outputs": [
        {
          "output_type": "stream",
          "name": "stdout",
          "text": [
            "Looking in indexes: https://pypi.org/simple, https://us-python.pkg.dev/colab-wheels/public/simple/\n",
            "Collecting impedance\n",
            "  Downloading impedance-1.4.1-py3-none-any.whl (46 kB)\n",
            "\u001b[K     |████████████████████████████████| 46 kB 4.1 MB/s \n",
            "\u001b[?25hRequirement already satisfied: matplotlib>=3.0 in /usr/local/lib/python3.7/dist-packages (from impedance) (3.2.2)\n",
            "Requirement already satisfied: altair>=3.0 in /usr/local/lib/python3.7/dist-packages (from impedance) (4.2.0)\n",
            "Requirement already satisfied: numpy>=1.14 in /usr/local/lib/python3.7/dist-packages (from impedance) (1.21.6)\n",
            "Requirement already satisfied: scipy>=1.0 in /usr/local/lib/python3.7/dist-packages (from impedance) (1.7.3)\n",
            "Requirement already satisfied: jsonschema>=3.0 in /usr/local/lib/python3.7/dist-packages (from altair>=3.0->impedance) (4.3.3)\n",
            "Requirement already satisfied: jinja2 in /usr/local/lib/python3.7/dist-packages (from altair>=3.0->impedance) (2.11.3)\n",
            "Requirement already satisfied: pandas>=0.18 in /usr/local/lib/python3.7/dist-packages (from altair>=3.0->impedance) (1.3.5)\n",
            "Requirement already satisfied: entrypoints in /usr/local/lib/python3.7/dist-packages (from altair>=3.0->impedance) (0.4)\n",
            "Requirement already satisfied: toolz in /usr/local/lib/python3.7/dist-packages (from altair>=3.0->impedance) (0.12.0)\n",
            "Requirement already satisfied: typing-extensions in /usr/local/lib/python3.7/dist-packages (from jsonschema>=3.0->altair>=3.0->impedance) (4.1.1)\n",
            "Requirement already satisfied: importlib-metadata in /usr/local/lib/python3.7/dist-packages (from jsonschema>=3.0->altair>=3.0->impedance) (4.13.0)\n",
            "Requirement already satisfied: importlib-resources>=1.4.0 in /usr/local/lib/python3.7/dist-packages (from jsonschema>=3.0->altair>=3.0->impedance) (5.10.0)\n",
            "Requirement already satisfied: pyrsistent!=0.17.0,!=0.17.1,!=0.17.2,>=0.14.0 in /usr/local/lib/python3.7/dist-packages (from jsonschema>=3.0->altair>=3.0->impedance) (0.19.2)\n",
            "Requirement already satisfied: attrs>=17.4.0 in /usr/local/lib/python3.7/dist-packages (from jsonschema>=3.0->altair>=3.0->impedance) (22.1.0)\n",
            "Requirement already satisfied: zipp>=3.1.0 in /usr/local/lib/python3.7/dist-packages (from importlib-resources>=1.4.0->jsonschema>=3.0->altair>=3.0->impedance) (3.10.0)\n",
            "Requirement already satisfied: python-dateutil>=2.1 in /usr/local/lib/python3.7/dist-packages (from matplotlib>=3.0->impedance) (2.8.2)\n",
            "Requirement already satisfied: kiwisolver>=1.0.1 in /usr/local/lib/python3.7/dist-packages (from matplotlib>=3.0->impedance) (1.4.4)\n",
            "Requirement already satisfied: cycler>=0.10 in /usr/local/lib/python3.7/dist-packages (from matplotlib>=3.0->impedance) (0.11.0)\n",
            "Requirement already satisfied: pyparsing!=2.0.4,!=2.1.2,!=2.1.6,>=2.0.1 in /usr/local/lib/python3.7/dist-packages (from matplotlib>=3.0->impedance) (3.0.9)\n",
            "Requirement already satisfied: pytz>=2017.3 in /usr/local/lib/python3.7/dist-packages (from pandas>=0.18->altair>=3.0->impedance) (2022.6)\n",
            "Requirement already satisfied: six>=1.5 in /usr/local/lib/python3.7/dist-packages (from python-dateutil>=2.1->matplotlib>=3.0->impedance) (1.15.0)\n",
            "Requirement already satisfied: MarkupSafe>=0.23 in /usr/local/lib/python3.7/dist-packages (from jinja2->altair>=3.0->impedance) (2.0.1)\n",
            "Installing collected packages: impedance\n",
            "Successfully installed impedance-1.4.1\n"
          ]
        }
      ]
    },
    {
      "cell_type": "code",
      "source": [
        "from google.colab import drive\n",
        "import pandas as pd \n",
        "import os\n",
        "import tensorflow as tf\n",
        "import numpy as np  \n",
        "from sklearn.model_selection import train_test_split\n",
        "from sklearn.preprocessing import StandardScaler\n",
        "import csv\n",
        "import random\n",
        "\n",
        "import sys\n",
        "from impedance.models.circuits import CustomCircuit\n",
        "\n",
        "drive.mount('/content/gdrive')"
      ],
      "metadata": {
        "id": "p5hrzLr-gD8i",
        "colab": {
          "base_uri": "https://localhost:8080/"
        },
        "outputId": "e245e40e-7cdb-4804-ce51-790efdbb3a69"
      },
      "execution_count": 3,
      "outputs": [
        {
          "output_type": "stream",
          "name": "stdout",
          "text": [
            "Mounted at /content/gdrive\n"
          ]
        }
      ]
    },
    {
      "cell_type": "code",
      "source": [
        "mat = [[1,2,3],[4,5,6]]\n",
        "\n",
        "def split23(li):\n",
        "  g = []\n",
        "  for i in range(1,len(li),3):\n",
        "    g.append(li[i:i+3])\n",
        "  return g"
      ],
      "metadata": {
        "id": "9OKNg_S92-3n"
      },
      "execution_count": 4,
      "outputs": []
    },
    {
      "cell_type": "code",
      "source": [
        "X = []\n",
        "\n",
        "with open('/content/gdrive/My Drive/FYP Dengue data - Sheet1.csv', 'r') as f:\n",
        "  csv_reader = csv.reader(f, delimiter=',')\n",
        "  line_count = 0\n",
        "    \n",
        "  for i in csv_reader:\n",
        "    if line_count == 0:\n",
        "      for j in range(len(split23(i))):\n",
        "        X.append([])\n",
        "      \n",
        "    line_count += 1\n",
        "    if i[0] in [\"index\",\"conc\",\"label\"]:\n",
        "            if i[0] == \"label\":\n",
        "              y = split23(i)\n",
        "    else:\n",
        "      li = split23(i)\n",
        "      \n",
        "      for ind,dat in enumerate(li):\n",
        "        \n",
        "        X[ind].append(list(map(float,dat)))\n",
        "        \n",
        "\n",
        "\n",
        "\n",
        "for i,li in enumerate(y):\n",
        "  if li[0] == \"1\":\n",
        "    y[i] = 1\n",
        "  else:\n",
        "    y[i] = 0\n",
        "\n",
        "X = np.array(X)\n",
        "y = np.array(y)\n",
        "\n",
        "temp = list(zip(X, y))\n",
        "random.shuffle(temp)\n",
        "X, y = zip(*temp)\n",
        "X, y = list(X), list(y)\n",
        "X = np.array(X)\n",
        "y = np.array(y)\n",
        "newli = []\n",
        "for i in range(len(X[0])):\n",
        "  z = complex(X[0][i][1],X[0][i][2])\n",
        "  newli.append(z)\n",
        "print(newli)"
      ],
      "metadata": {
        "id": "yWr4SAQGy5pw",
        "colab": {
          "base_uri": "https://localhost:8080/"
        },
        "outputId": "a51af42d-7f08-4bb4-d764-26b64c9ef9a6"
      },
      "execution_count": 14,
      "outputs": [
        {
          "output_type": "stream",
          "name": "stdout",
          "text": [
            "[(456.614+5.15737j), (456.052+4.29894j), (456.642+3.62846j), (460.374+9.14462j), (459.369+7.62981j), (458.905+6.7184j), (458.863+6.79895j), (458.979+7.21057j), (458.68+8.4258j), (459.4+9.7113j), (461.016+11.6499j), (462.358+13.7423j), (463.716+16.657j), (465.457+20.3876j), (467.5+24.9583j), (469.859+30.6567j), (472.371+37.9513j), (475.071+47.2265j), (477.812+59.4829j), (480.762+75.8991j), (483.914+98.0304j), (488.47+128.113j), (494.322+168.247j), (503.491+221.642j), (517.9+292.234j), (541.164+384.513j), (577.726+503.152j), (638.534+653.87j), (735.564+840.148j), (886.934+1059.35j), (1112.99+1302.57j), (1430+1537.69j), (1836.09+1722.72j), (2303.24+1820.87j), (2784.58+1813.57j), (3220.81+1714.54j), (3585.57+1565.3j), (3879.68+1403.94j), (4100.63+1255.6j), (4294.17+1133.87j), (4453.83+1049.62j), (4592.24+998.987j), (4734.68+979.607j), (4867.17+994.283j), (5027.21+1018.72j), (5204.81+1083.78j), (5344.6+1152.85j), (5535.5+1273.64j), (5712.74+1395.56j), (5967.15+1530.75j)]\n"
          ]
        }
      ]
    },
    {
      "cell_type": "markdown",
      "source": [
        "impedance py did the math but did not output the parameters"
      ],
      "metadata": {
        "id": "vxFRYUBe3w-K"
      }
    },
    {
      "cell_type": "code",
      "source": [
        "def fit2circuit(data):\n",
        "  f = [99998.5, 74371.3, 55310.2, 41135.8, 30593.9, 22752.8, 16922.0, 12584.9, 9359.6, 6960.87, 5176.9, 3850.1, 2863.41, 2129.55, 1583.81, 1177.91, 876.024, 651.509, 484.549, 360.37, 268.005, 199.318, 148.237, 110.25, 81.9936, 60.9793, 45.3517, 33.7288, 25.0842, 18.6553, 13.8746, 10.3188, 7.6741, 5.70749, 4.24474, 3.15689, 2.34786, 1.74614, 1.29861, 0.96584, 0.718283, 0.534201, 0.397296, 0.295477, 0.219748, 0.163429, 0.121549, 0.0903947, 0.067228, 0.0499995]\n",
        "  cc = CustomCircuit(initial_guess=[.01, .005, .1],circuit='p(R1,C1)-R2')\n",
        "  cc.fit(f,data)\n",
        "  return cc.predict(f)\n",
        "\n",
        "\n",
        "d = [(456.614+5.15737j), (456.052+4.29894j), (456.642+3.62846j), (460.374+9.14462j), (459.369+7.62981j), (458.905+6.7184j), (458.863+6.79895j), (458.979+7.21057j), (458.68+8.4258j), (459.4+9.7113j), (461.016+11.6499j), (462.358+13.7423j), (463.716+16.657j), (465.457+20.3876j), (467.5+24.9583j), (469.859+30.6567j), (472.371+37.9513j), (475.071+47.2265j), (477.812+59.4829j), (480.762+75.8991j), (483.914+98.0304j), (488.47+128.113j), (494.322+168.247j), (503.491+221.642j), (517.9+292.234j), (541.164+384.513j), (577.726+503.152j), (638.534+653.87j), (735.564+840.148j), (886.934+1059.35j), (1112.99+1302.57j), (1430+1537.69j), (1836.09+1722.72j), (2303.24+1820.87j), (2784.58+1813.57j), (3220.81+1714.54j), (3585.57+1565.3j), (3879.68+1403.94j), (4100.63+1255.6j), (4294.17+1133.87j), (4453.83+1049.62j), (4592.24+998.987j), (4734.68+979.607j), (4867.17+994.283j), (5027.21+1018.72j), (5204.81+1083.78j), (5344.6+1152.85j), (5535.5+1273.64j), (5712.74+1395.56j), (5967.15+1530.75j)]\n",
        "f = np.asarray(f).astype('float32')\n",
        "d = np.asarray(d).astype('complex')\n",
        "pred = fit2circuit(d)\n",
        "\n",
        "\n"
      ],
      "metadata": {
        "colab": {
          "base_uri": "https://localhost:8080/"
        },
        "id": "IuH6BBcF3wbh",
        "outputId": "72662189-9f5f-4d97-e20b-20e0229532b9"
      },
      "execution_count": 35,
      "outputs": [
        {
          "output_type": "stream",
          "name": "stdout",
          "text": [
            "(-453.595635557758+3252.187286428694j)\n"
          ]
        }
      ]
    },
    {
      "cell_type": "code",
      "source": [
        "#Split training and test data\n",
        "X_train,X_test,Y_train,Y_test = train_test_split( X,y, test_size=0.10)\n",
        "\n",
        "X_train = np.asarray(X_train).astype('float32')\n",
        "X_test = np.asarray(X_test).astype('float32')\n",
        "Y_train = np.asarray(Y_train).astype('float32').reshape((-1,1))\n",
        "Y_test = np.asarray(Y_test).astype('float32').reshape((-1,1))\n",
        "\n",
        "print(\"\\nTrain Test Dimensions:\\n------------------------------------\")\n",
        "print(\"shape of training set\",X_train.shape, Y_train.shape)\n",
        "print(\"shape of testing set\",X_test.shape, Y_test.shape)"
      ],
      "metadata": {
        "id": "auzzSNnDfjLP"
      },
      "execution_count": null,
      "outputs": []
    },
    {
      "cell_type": "code",
      "source": [
        "from tensorflow import keras\n",
        "\n"
      ],
      "metadata": {
        "id": "ysm1zZ-IjZ3o"
      },
      "execution_count": null,
      "outputs": []
    },
    {
      "cell_type": "code",
      "source": [
        "#Create a sequencial model in Keras\n",
        "model = tf.keras.models.Sequential()"
      ],
      "metadata": {
        "id": "GlsVMt2wjaXH"
      },
      "execution_count": null,
      "outputs": []
    },
    {
      "cell_type": "code",
      "source": [
        "#Add the first hidden layer\n",
        "model.add(keras.layers.Dense(128,         #Number of nodes\n",
        "                        input_shape=(50,2), #Number of input variables\n",
        "                        name='Hidden-Layer-1', #Logical name\n",
        "                        activation='relu'))    #activation function\n",
        "\n",
        "#Add a second hidden layer\n",
        "model.add(keras.layers.Dense(128,\n",
        "                              name='Hidden-Layer-2',\n",
        "                              activation='relu'))\n",
        "\n",
        "model.add(tf.keras.layers.Conv1D(\n",
        "    2,3,activation='relu'\n",
        "))\n",
        "model.add(tf.keras.layers.Flatten())\n",
        "\n",
        "#Add a second hidden layer\n",
        "model.add(keras.layers.Dense(128,\n",
        "                              name='Hidden-Layer-3',\n",
        "                              activation='relu'))\n",
        "\n",
        "\n",
        "\n",
        "#Add a second hidden layer\n",
        "model.add(keras.layers.Dense(128,\n",
        "                              name='Hidden-Layer-4',\n",
        "                              activation='relu'))\n",
        "\n",
        "\n"
      ],
      "metadata": {
        "id": "ETzVjDvkjdTf"
      },
      "execution_count": null,
      "outputs": []
    },
    {
      "cell_type": "code",
      "source": [
        "model.add(keras.layers.Dense(1,\n",
        "                             name='Output-Layer',\n",
        "                             activation='sigmoid'))\n",
        "\n",
        "#model.summary()"
      ],
      "metadata": {
        "id": "laqcu6Fqjfd1"
      },
      "execution_count": null,
      "outputs": []
    },
    {
      "cell_type": "code",
      "source": [
        "#Compile the model with loss & metrics\n",
        "model.compile(loss= tf.keras.losses.BinaryCrossentropy() ,\n",
        "              metrics=['accuracy'])"
      ],
      "metadata": {
        "id": "CbUMQ0AAj3zK"
      },
      "execution_count": null,
      "outputs": []
    },
    {
      "cell_type": "code",
      "source": [
        "#Make it verbose so we can see the progress\n",
        "VERBOSE=1\n",
        "\n",
        "#Setup Hyper Parameters for training\n",
        "\n",
        "#Set Batch size\n",
        "BATCH_SIZE=10\n",
        "#Set number of epochs\n",
        "EPOCHS=20\n",
        "#Set validation split. 20% of the training data will be used for validation\n",
        "#after each epoch\n",
        "VALIDATION_SPLIT=0.2\n",
        "\n",
        "print(\"\\nTraining Progress:\\n------------------------------------\")\n",
        "#Fit the model. This will perform the entire training cycle, including\n",
        "#forward propagation, loss computation, backward propagation and gradient descent.\n",
        "#Execute for the specified batch sizes and epoch\n",
        "#Perform validation after each epoch \n",
        "history=model.fit(X_train,\n",
        "          Y_train,\n",
        "          batch_size=BATCH_SIZE,\n",
        "          epochs=EPOCHS,\n",
        "          verbose=VERBOSE,\n",
        "          validation_split=VALIDATION_SPLIT)"
      ],
      "metadata": {
        "id": "S4-jxaSdj6qN"
      },
      "execution_count": null,
      "outputs": []
    },
    {
      "cell_type": "code",
      "source": [
        "#Evaluate the model against the test dataset and print results\n",
        "print(\"\\nEvaluation against Test Dataset :\\n------------------------------------\")\n",
        "z = model.evaluate(X_test,Y_test)\n",
        "print(\"The accuracy of the model is \",round(z[1]*100),\" %\")"
      ],
      "metadata": {
        "id": "qyfy9ghzj9yd"
      },
      "execution_count": null,
      "outputs": []
    },
    {
      "cell_type": "code",
      "source": [
        "print(\"\\nAccuracy during Training :\\n------------------------------------\")\n",
        "import matplotlib.pyplot as plt\n",
        "\n",
        "#Plot accuracy of the model after each epoch.\n",
        "pd.DataFrame(history.history)[\"accuracy\"].plot(figsize=(8, 5))\n",
        "plt.title(\"Accuracy improvements with Epoch\")\n",
        "plt.show()"
      ],
      "metadata": {
        "id": "NljbLN33pTGq"
      },
      "execution_count": null,
      "outputs": []
    }
  ]
}
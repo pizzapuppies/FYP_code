{
  "nbformat": 4,
  "nbformat_minor": 0,
  "metadata": {
    "colab": {
      "provenance": [],
      "include_colab_link": true
    },
    "kernelspec": {
      "name": "python3",
      "display_name": "Python 3"
    },
    "language_info": {
      "name": "python"
    }
  },
  "cells": [
    {
      "cell_type": "markdown",
      "metadata": {
        "id": "view-in-github",
        "colab_type": "text"
      },
      "source": [
        "<a href=\"https://colab.research.google.com/github/pizzapuppies/Usif_FYP_code/blob/main/raw_data(complex)%20with%20k-fold%20cross%20validation%20CNN_for_dengue.ipynb\" target=\"_parent\"><img src=\"https://colab.research.google.com/assets/colab-badge.svg\" alt=\"Open In Colab\"/></a>"
      ]
    },
    {
      "cell_type": "markdown",
      "source": [
        "predictive ANN for solution\n"
      ],
      "metadata": {
        "id": "h2F9z_KZUYyq"
      }
    },
    {
      "cell_type": "code",
      "source": [
        "! pip install impedance"
      ],
      "metadata": {
        "colab": {
          "base_uri": "https://localhost:8080/"
        },
        "id": "K5yS4kCjFFnz",
        "outputId": "fc43e65b-af82-41aa-c2a6-c360c3401610"
      },
      "execution_count": 35,
      "outputs": [
        {
          "output_type": "stream",
          "name": "stdout",
          "text": [
            "Looking in indexes: https://pypi.org/simple, https://us-python.pkg.dev/colab-wheels/public/simple/\n",
            "Requirement already satisfied: impedance in /usr/local/lib/python3.8/dist-packages (1.4.1)\n",
            "Requirement already satisfied: matplotlib>=3.0 in /usr/local/lib/python3.8/dist-packages (from impedance) (3.2.2)\n",
            "Requirement already satisfied: altair>=3.0 in /usr/local/lib/python3.8/dist-packages (from impedance) (4.2.0)\n",
            "Requirement already satisfied: numpy>=1.14 in /usr/local/lib/python3.8/dist-packages (from impedance) (1.21.6)\n",
            "Requirement already satisfied: scipy>=1.0 in /usr/local/lib/python3.8/dist-packages (from impedance) (1.7.3)\n",
            "Requirement already satisfied: jsonschema>=3.0 in /usr/local/lib/python3.8/dist-packages (from altair>=3.0->impedance) (4.3.3)\n",
            "Requirement already satisfied: pandas>=0.18 in /usr/local/lib/python3.8/dist-packages (from altair>=3.0->impedance) (1.3.5)\n",
            "Requirement already satisfied: toolz in /usr/local/lib/python3.8/dist-packages (from altair>=3.0->impedance) (0.12.0)\n",
            "Requirement already satisfied: jinja2 in /usr/local/lib/python3.8/dist-packages (from altair>=3.0->impedance) (2.11.3)\n",
            "Requirement already satisfied: entrypoints in /usr/local/lib/python3.8/dist-packages (from altair>=3.0->impedance) (0.4)\n",
            "Requirement already satisfied: attrs>=17.4.0 in /usr/local/lib/python3.8/dist-packages (from jsonschema>=3.0->altair>=3.0->impedance) (22.1.0)\n",
            "Requirement already satisfied: importlib-resources>=1.4.0 in /usr/local/lib/python3.8/dist-packages (from jsonschema>=3.0->altair>=3.0->impedance) (5.10.0)\n",
            "Requirement already satisfied: pyrsistent!=0.17.0,!=0.17.1,!=0.17.2,>=0.14.0 in /usr/local/lib/python3.8/dist-packages (from jsonschema>=3.0->altair>=3.0->impedance) (0.19.2)\n",
            "Requirement already satisfied: zipp>=3.1.0 in /usr/local/lib/python3.8/dist-packages (from importlib-resources>=1.4.0->jsonschema>=3.0->altair>=3.0->impedance) (3.10.0)\n",
            "Requirement already satisfied: python-dateutil>=2.1 in /usr/local/lib/python3.8/dist-packages (from matplotlib>=3.0->impedance) (2.8.2)\n",
            "Requirement already satisfied: pyparsing!=2.0.4,!=2.1.2,!=2.1.6,>=2.0.1 in /usr/local/lib/python3.8/dist-packages (from matplotlib>=3.0->impedance) (3.0.9)\n",
            "Requirement already satisfied: kiwisolver>=1.0.1 in /usr/local/lib/python3.8/dist-packages (from matplotlib>=3.0->impedance) (1.4.4)\n",
            "Requirement already satisfied: cycler>=0.10 in /usr/local/lib/python3.8/dist-packages (from matplotlib>=3.0->impedance) (0.11.0)\n",
            "Requirement already satisfied: pytz>=2017.3 in /usr/local/lib/python3.8/dist-packages (from pandas>=0.18->altair>=3.0->impedance) (2022.6)\n",
            "Requirement already satisfied: six>=1.5 in /usr/local/lib/python3.8/dist-packages (from python-dateutil>=2.1->matplotlib>=3.0->impedance) (1.15.0)\n",
            "Requirement already satisfied: MarkupSafe>=0.23 in /usr/local/lib/python3.8/dist-packages (from jinja2->altair>=3.0->impedance) (2.0.1)\n"
          ]
        }
      ]
    },
    {
      "cell_type": "code",
      "source": [
        "from google.colab import drive\n",
        "import pandas as pd \n",
        "import os\n",
        "import tensorflow as tf\n",
        "import numpy as np  \n",
        "from sklearn.model_selection import train_test_split\n",
        "from sklearn.preprocessing import StandardScaler\n",
        "import csv\n",
        "import random\n",
        "\n",
        "import sys\n",
        "from impedance.models.circuits import Randles\n",
        "\n",
        "drive.mount('/content/gdrive')"
      ],
      "metadata": {
        "id": "p5hrzLr-gD8i",
        "colab": {
          "base_uri": "https://localhost:8080/"
        },
        "outputId": "b9ae1ea0-4522-4723-cffd-d331b8d14424"
      },
      "execution_count": 36,
      "outputs": [
        {
          "output_type": "stream",
          "name": "stdout",
          "text": [
            "Drive already mounted at /content/gdrive; to attempt to forcibly remount, call drive.mount(\"/content/gdrive\", force_remount=True).\n"
          ]
        }
      ]
    },
    {
      "cell_type": "code",
      "source": [
        "mat = [[1,2,3],[4,5,6]]\n",
        "\n",
        "def split23(li):\n",
        "  g = []\n",
        "  for i in range(1,len(li),3):\n",
        "    g.append(li[i:i+3])\n",
        "  return g"
      ],
      "metadata": {
        "id": "9OKNg_S92-3n"
      },
      "execution_count": 37,
      "outputs": []
    },
    {
      "cell_type": "code",
      "source": [
        "X = []\n",
        "\n",
        "with open('/content/gdrive/My Drive/FYP Dengue data - Sheet1.csv', 'r') as f:\n",
        "  csv_reader = csv.reader(f, delimiter=',')\n",
        "  line_count = 0\n",
        "    \n",
        "  for i in csv_reader:\n",
        "    if line_count == 0:\n",
        "      for j in range(len(split23(i))):\n",
        "        X.append([])\n",
        "      \n",
        "    line_count += 1\n",
        "    if i[0] in [\"index\",\"conc\",\"label\"]:\n",
        "            if i[0] == \"label\":\n",
        "              y = split23(i)\n",
        "    else:\n",
        "      li = split23(i)\n",
        "      \n",
        "      for ind,dat in enumerate(li):\n",
        "        com = list(map(float,dat[1:]))\n",
        "        X[ind].append(complex(com[0],com[1]))\n",
        "        \n",
        "\n",
        "\n",
        "\n",
        "for i,li in enumerate(y):\n",
        "  if li[0] == \"1\":\n",
        "    y[i] = 1\n",
        "  else:\n",
        "    y[i] = 0\n",
        "\n",
        "X = np.array(X)\n",
        "y = np.array(y)\n",
        "\n",
        "temp = list(zip(X, y))\n",
        "random.shuffle(temp)\n",
        "X, y = zip(*temp)\n",
        "X, y = list(X), list(y)\n",
        "X = np.array(X).astype('complex')\n",
        "y = np.array(y)"
      ],
      "metadata": {
        "id": "yWr4SAQGy5pw"
      },
      "execution_count": 38,
      "outputs": []
    },
    {
      "cell_type": "markdown",
      "source": [
        "impedance py did the math but did not output the parameters"
      ],
      "metadata": {
        "id": "vxFRYUBe3w-K"
      }
    },
    {
      "cell_type": "code",
      "source": [
        "from sklearn.model_selection import KFold\n",
        "\n",
        "n_split=3\n",
        "\n",
        "for train_index,test_index in KFold(n_split).split(X):\n",
        "  x_train,x_test=X[train_index],X[test_index]\n",
        "  y_train,y_test=y[train_index],y[test_index]"
      ],
      "metadata": {
        "id": "by4pnG1IMgXF"
      },
      "execution_count": 39,
      "outputs": []
    },
    {
      "cell_type": "code",
      "source": [
        "\"\"\"#Split training and test data\n",
        "X_train,X_test,Y_train,Y_test = train_test_split( X,y, test_size=0.10)\n",
        "\n",
        "X_train = np.asarray(X_train).astype('complex')\n",
        "X_test = np.asarray(X_test).astype('complex')\n",
        "Y_train = np.asarray(Y_train).astype('float32').reshape((-1,1))\n",
        "Y_test = np.asarray(Y_test).astype('float32').reshape((-1,1))\n",
        "print(X_train[0])\n",
        "print(Y_train[0])\n",
        "\n",
        "print(\"\\nTrain Test Dimensions:\\n------------------------------------\")\n",
        "print(\"shape of training set\",X_train.shape, Y_train.shape)\n",
        "print(\"shape of testing set\",X_test.shape, Y_test.shape)\"\"\""
      ],
      "metadata": {
        "id": "auzzSNnDfjLP",
        "colab": {
          "base_uri": "https://localhost:8080/",
          "height": 71
        },
        "outputId": "13d77c41-d6e8-494f-ec17-aeb1870052f7"
      },
      "execution_count": 40,
      "outputs": [
        {
          "output_type": "execute_result",
          "data": {
            "text/plain": [
              "'#Split training and test data\\nX_train,X_test,Y_train,Y_test = train_test_split( X,y, test_size=0.10)\\n\\nX_train = np.asarray(X_train).astype(\\'complex\\')\\nX_test = np.asarray(X_test).astype(\\'complex\\')\\nY_train = np.asarray(Y_train).astype(\\'float32\\').reshape((-1,1))\\nY_test = np.asarray(Y_test).astype(\\'float32\\').reshape((-1,1))\\nprint(X_train[0])\\nprint(Y_train[0])\\n\\nprint(\"\\nTrain Test Dimensions:\\n------------------------------------\")\\nprint(\"shape of training set\",X_train.shape, Y_train.shape)\\nprint(\"shape of testing set\",X_test.shape, Y_test.shape)'"
            ],
            "application/vnd.google.colaboratory.intrinsic+json": {
              "type": "string"
            }
          },
          "metadata": {},
          "execution_count": 40
        }
      ]
    },
    {
      "cell_type": "code",
      "source": [],
      "metadata": {
        "id": "5VtED6jYMkJj"
      },
      "execution_count": 40,
      "outputs": []
    },
    {
      "cell_type": "code",
      "source": [
        "from tensorflow import keras\n",
        "\n"
      ],
      "metadata": {
        "id": "ysm1zZ-IjZ3o"
      },
      "execution_count": 41,
      "outputs": []
    },
    {
      "cell_type": "code",
      "source": [
        "#Create a sequencial model in Keras\n",
        "model = tf.keras.models.Sequential()"
      ],
      "metadata": {
        "id": "GlsVMt2wjaXH"
      },
      "execution_count": 42,
      "outputs": []
    },
    {
      "cell_type": "code",
      "source": [
        "#Add the first hidden layer\n",
        "model.add(keras.layers.Dense(128,         #Number of nodes\n",
        "                        input_shape=(50,1), #Number of input variables\n",
        "                        name='Hidden-Layer-1', #Logical name\n",
        "                        activation='relu'))    #activation function\n",
        "\n",
        "#Add a second hidden layer\n",
        "model.add(keras.layers.Dense(128,\n",
        "                              name='Hidden-Layer-2',\n",
        "                              activation='relu'))\n",
        "\n",
        "model.add(tf.keras.layers.Conv1D(\n",
        "    2,3,activation='relu'\n",
        "))\n",
        "model.add(tf.keras.layers.Flatten())\n",
        "\n",
        "#Add a second hidden layer\n",
        "model.add(keras.layers.Dense(128,\n",
        "                              name='Hidden-Layer-3',\n",
        "                              activation='relu'))\n",
        "\n",
        "\n",
        "\n",
        "#Add a second hidden layer\n",
        "model.add(keras.layers.Dense(128,\n",
        "                              name='Hidden-Layer-4',\n",
        "                              activation='relu'))\n",
        "\n",
        "\n"
      ],
      "metadata": {
        "id": "ETzVjDvkjdTf"
      },
      "execution_count": 43,
      "outputs": []
    },
    {
      "cell_type": "code",
      "source": [
        "model.add(keras.layers.Dense(1,\n",
        "                             name='Output-Layer',\n",
        "                             activation='sigmoid'))\n",
        "\n",
        "#model.summary()"
      ],
      "metadata": {
        "id": "laqcu6Fqjfd1"
      },
      "execution_count": 44,
      "outputs": []
    },
    {
      "cell_type": "code",
      "source": [
        "#Compile the model with loss & metrics\n",
        "model.compile(loss= tf.keras.losses.BinaryCrossentropy() ,\n",
        "              metrics=['accuracy'])"
      ],
      "metadata": {
        "id": "CbUMQ0AAj3zK"
      },
      "execution_count": 45,
      "outputs": []
    },
    {
      "cell_type": "code",
      "source": [
        "#Make it verbose so we can see the progress\n",
        "VERBOSE=1\n",
        "\n",
        "#Setup Hyper Parameters for training\n",
        "\n",
        "#Set Batch size\n",
        "BATCH_SIZE=10\n",
        "#Set number of epochs\n",
        "EPOCHS=20\n",
        "#Set validation split. 20% of the training data will be used for validation\n",
        "#after each epoch\n",
        "VALIDATION_SPLIT=0.2\n",
        "\n",
        "print(\"\\nTraining Progress:\\n------------------------------------\")\n",
        "#Fit the model. This will perform the entire training cycle, including\n",
        "#forward propagation, loss computation, backward propagation and gradient descent.\n",
        "#Execute for the specified batch sizes and epoch\n",
        "#Perform validation after each epoch \n",
        "history=model.fit(X_train,\n",
        "          Y_train,\n",
        "          batch_size=BATCH_SIZE,\n",
        "          epochs=EPOCHS,\n",
        "          verbose=VERBOSE,\n",
        "          validation_split=VALIDATION_SPLIT)"
      ],
      "metadata": {
        "id": "S4-jxaSdj6qN",
        "colab": {
          "base_uri": "https://localhost:8080/"
        },
        "outputId": "9ec6353c-969d-4575-a714-0e71b056ab2a"
      },
      "execution_count": 46,
      "outputs": [
        {
          "output_type": "stream",
          "name": "stdout",
          "text": [
            "\n",
            "Training Progress:\n",
            "------------------------------------\n",
            "Epoch 1/20\n",
            "10/10 [==============================] - 1s 35ms/step - loss: 28.9122 - accuracy: 0.5400 - val_loss: 0.6960 - val_accuracy: 0.3846\n",
            "Epoch 2/20\n",
            "10/10 [==============================] - 0s 13ms/step - loss: 0.6956 - accuracy: 0.5000 - val_loss: 0.6965 - val_accuracy: 0.3846\n",
            "Epoch 3/20\n",
            "10/10 [==============================] - 0s 11ms/step - loss: 0.6873 - accuracy: 0.5100 - val_loss: 0.6962 - val_accuracy: 0.3846\n",
            "Epoch 4/20\n",
            "10/10 [==============================] - 0s 12ms/step - loss: 0.6868 - accuracy: 0.5100 - val_loss: 0.6962 - val_accuracy: 0.3846\n",
            "Epoch 5/20\n",
            "10/10 [==============================] - 0s 11ms/step - loss: 0.6869 - accuracy: 0.5100 - val_loss: 0.6959 - val_accuracy: 0.3846\n",
            "Epoch 6/20\n",
            "10/10 [==============================] - 0s 10ms/step - loss: 0.6867 - accuracy: 0.5100 - val_loss: 0.6962 - val_accuracy: 0.3846\n",
            "Epoch 7/20\n",
            "10/10 [==============================] - 0s 11ms/step - loss: 0.6869 - accuracy: 0.5100 - val_loss: 0.6964 - val_accuracy: 0.3846\n",
            "Epoch 8/20\n",
            "10/10 [==============================] - 0s 10ms/step - loss: 0.6865 - accuracy: 0.5100 - val_loss: 0.6965 - val_accuracy: 0.3846\n",
            "Epoch 9/20\n",
            "10/10 [==============================] - 0s 12ms/step - loss: 0.6869 - accuracy: 0.5100 - val_loss: 0.6968 - val_accuracy: 0.3846\n",
            "Epoch 10/20\n",
            "10/10 [==============================] - 0s 10ms/step - loss: 0.6866 - accuracy: 0.5100 - val_loss: 0.6964 - val_accuracy: 0.3846\n",
            "Epoch 11/20\n",
            "10/10 [==============================] - 0s 11ms/step - loss: 0.6868 - accuracy: 0.5100 - val_loss: 0.6963 - val_accuracy: 0.3846\n",
            "Epoch 12/20\n",
            "10/10 [==============================] - 0s 10ms/step - loss: 0.6865 - accuracy: 0.5100 - val_loss: 0.6963 - val_accuracy: 0.3846\n",
            "Epoch 13/20\n",
            "10/10 [==============================] - 0s 10ms/step - loss: 0.6866 - accuracy: 0.5100 - val_loss: 0.6960 - val_accuracy: 0.3846\n",
            "Epoch 14/20\n",
            "10/10 [==============================] - 0s 14ms/step - loss: 0.6867 - accuracy: 0.5100 - val_loss: 0.6961 - val_accuracy: 0.3846\n",
            "Epoch 15/20\n",
            "10/10 [==============================] - 0s 13ms/step - loss: 0.6869 - accuracy: 0.5100 - val_loss: 0.6958 - val_accuracy: 0.3846\n",
            "Epoch 16/20\n",
            "10/10 [==============================] - 0s 11ms/step - loss: 0.6865 - accuracy: 0.5100 - val_loss: 0.6958 - val_accuracy: 0.3846\n",
            "Epoch 17/20\n",
            "10/10 [==============================] - 0s 10ms/step - loss: 0.6869 - accuracy: 0.5100 - val_loss: 0.6955 - val_accuracy: 0.3846\n",
            "Epoch 18/20\n",
            "10/10 [==============================] - 0s 11ms/step - loss: 0.6869 - accuracy: 0.4500 - val_loss: 0.6952 - val_accuracy: 0.3846\n",
            "Epoch 19/20\n",
            "10/10 [==============================] - 0s 10ms/step - loss: 0.6866 - accuracy: 0.5100 - val_loss: 0.6951 - val_accuracy: 0.3846\n",
            "Epoch 20/20\n",
            "10/10 [==============================] - 0s 15ms/step - loss: 0.6865 - accuracy: 0.5100 - val_loss: 0.6951 - val_accuracy: 0.3846\n"
          ]
        }
      ]
    },
    {
      "cell_type": "code",
      "source": [
        "#Evaluate the model against the test dataset and print results\n",
        "print(\"\\nEvaluation against Test Dataset :\\n------------------------------------\")\n",
        "z = model.evaluate(X_test,Y_test)\n",
        "print(\"The accuracy of the model is \",round(z[1]*100),\" %\")"
      ],
      "metadata": {
        "id": "qyfy9ghzj9yd",
        "colab": {
          "base_uri": "https://localhost:8080/"
        },
        "outputId": "d671a4a8-077e-4efe-95c5-f2ee8fad950f"
      },
      "execution_count": 47,
      "outputs": [
        {
          "output_type": "stream",
          "name": "stdout",
          "text": [
            "\n",
            "Evaluation against Test Dataset :\n",
            "------------------------------------\n",
            "1/1 [==============================] - 0s 30ms/step - loss: 0.6908 - accuracy: 0.6429\n",
            "The accuracy of the model is  64  %\n"
          ]
        }
      ]
    },
    {
      "cell_type": "code",
      "source": [
        "print(\"\\nAccuracy during Training :\\n------------------------------------\")\n",
        "import matplotlib.pyplot as plt\n",
        "\n",
        "#Plot accuracy of the model after each epoch.\n",
        "pd.DataFrame(history.history)[\"accuracy\"].plot(figsize=(8, 5))\n",
        "plt.title(\"Accuracy improvements with Epoch\")\n",
        "plt.show()"
      ],
      "metadata": {
        "id": "NljbLN33pTGq",
        "colab": {
          "base_uri": "https://localhost:8080/",
          "height": 389
        },
        "outputId": "f1f9d29f-f779-4896-ffe1-24bf227671a8"
      },
      "execution_count": 48,
      "outputs": [
        {
          "output_type": "stream",
          "name": "stdout",
          "text": [
            "\n",
            "Accuracy during Training :\n",
            "------------------------------------\n"
          ]
        },
        {
          "output_type": "display_data",
          "data": {
            "text/plain": [
              "<Figure size 576x360 with 1 Axes>"
            ],
            "image/png": "[encoded data removed]"
          },
          "metadata": {
            "needs_background": "light"
          }
        }
      ]
    }
  ]
}
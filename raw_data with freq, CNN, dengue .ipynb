{
  "nbformat": 4,
  "nbformat_minor": 0,
  "metadata": {
    "colab": {
      "provenance": [],
      "include_colab_link": true
    },
    "kernelspec": {
      "name": "python3",
      "display_name": "Python 3"
    },
    "language_info": {
      "name": "python"
    }
  },
  "cells": [
    {
      "cell_type": "markdown",
      "metadata": {
        "id": "view-in-github",
        "colab_type": "text"
      },
      "source": [
        "<a href=\"https://colab.research.google.com/github/pizzapuppies/FYP_code/blob/main/raw_data%20with%20freq%2C%20CNN%2C%20dengue%20.ipynb\" target=\"_parent\"><img src=\"https://colab.research.google.com/assets/colab-badge.svg\" alt=\"Open In Colab\"/></a>"
      ]
    },
    {
      "cell_type": "markdown",
      "source": [
        "predictive ANN for solution\n"
      ],
      "metadata": {
        "id": "h2F9z_KZUYyq"
      }
    },
    {
      "cell_type": "code",
      "source": [
        "from google.colab import drive\n",
        "import pandas as pd \n",
        "import os\n",
        "import tensorflow as tf\n",
        "import numpy as np  \n",
        "from sklearn.model_selection import train_test_split\n",
        "from sklearn.preprocessing import StandardScaler\n",
        "import csv\n",
        "import random\n",
        "drive.mount('/content/gdrive')"
      ],
      "metadata": {
        "id": "p5hrzLr-gD8i",
        "colab": {
          "base_uri": "https://localhost:8080/"
        },
        "outputId": "c4be2ea0-9223-4cfa-f32c-4309cf38f7ef"
      },
      "execution_count": 1,
      "outputs": [
        {
          "output_type": "stream",
          "name": "stdout",
          "text": [
            "Mounted at /content/gdrive\n"
          ]
        }
      ]
    },
    {
      "cell_type": "code",
      "source": [
        "mat = [[1,2,3],[4,5,6]]\n",
        "\n",
        "def split23(li):\n",
        "  g = []\n",
        "  for i in range(1,len(li),3):\n",
        "    g.append(li[i:i+3])\n",
        "  return g"
      ],
      "metadata": {
        "id": "9OKNg_S92-3n"
      },
      "execution_count": 2,
      "outputs": []
    },
    {
      "cell_type": "code",
      "source": [
        "X = []\n",
        "\n",
        "with open('/content/gdrive/My Drive/FYP Dengue data - Sheet1.csv', 'r') as f:\n",
        "  csv_reader = csv.reader(f, delimiter=',')\n",
        "  line_count = 0\n",
        "    \n",
        "  for i in csv_reader:\n",
        "    if line_count == 0:\n",
        "      for j in range(len(split23(i))):\n",
        "        X.append([])\n",
        "      \n",
        "    line_count += 1\n",
        "    if i[0] in [\"index\",\"conc\",\"label\"]:\n",
        "            if i[0] == \"label\":\n",
        "              y = split23(i)\n",
        "    else:\n",
        "      li = split23(i)\n",
        "      \n",
        "      for ind,dat in enumerate(li):\n",
        "        \n",
        "        X[ind].append(list(map(float,dat)))\n",
        "\n",
        "\n",
        "\n",
        "\n",
        "for i,li in enumerate(y):\n",
        "  if li[0] == \"1\":\n",
        "    y[i] = 1\n",
        "  else:\n",
        "    y[i] = 0\n",
        "\n",
        "X = np.array(X)\n",
        "y = np.array(y)\n",
        "\n",
        "temp = list(zip(X, y))\n",
        "random.shuffle(temp)\n",
        "X, y = zip(*temp)\n",
        "X, y = list(X), list(y)\n",
        "X = np.array(X)\n",
        "y = np.array(y)\n",
        "\n"
      ],
      "metadata": {
        "id": "yWr4SAQGy5pw"
      },
      "execution_count": 3,
      "outputs": []
    },
    {
      "cell_type": "code",
      "source": [
        "#Split training and test data\n",
        "X_train,X_test,Y_train,Y_test = train_test_split( X,y, test_size=0.10)\n",
        "\n",
        "X_train = np.asarray(X_train).astype('float32')\n",
        "X_test = np.asarray(X_test).astype('float32')\n",
        "Y_train = np.asarray(Y_train).astype('float32').reshape((-1,1))\n",
        "Y_test = np.asarray(Y_test).astype('float32').reshape((-1,1))\n",
        "print(X_train[0])\n",
        "print(Y_train[0])\n",
        "print(\"\\nTrain Test Dimensions:\\n------------------------------------\")\n",
        "print(\"shape of training set\",X_train.shape, Y_train.shape)\n",
        "print(\"shape of testing set\",X_test.shape, Y_test.shape)"
      ],
      "metadata": {
        "colab": {
          "base_uri": "https://localhost:8080/"
        },
        "id": "auzzSNnDfjLP",
        "outputId": "0bded8aa-17ef-4ad7-f98a-d138b7e4503f"
      },
      "execution_count": 4,
      "outputs": [
        {
          "output_type": "stream",
          "name": "stdout",
          "text": [
            "[[9.99985e+04 5.06636e+02 2.21079e+01]\n",
            " [7.43713e+04 5.08014e+02 1.69617e+01]\n",
            " [5.53102e+04 5.09514e+02 1.31444e+01]\n",
            " [4.11358e+04 5.14301e+02 1.65171e+01]\n",
            " [3.05939e+04 5.13508e+02 1.24367e+01]\n",
            " [2.27528e+04 5.13206e+02 9.48025e+00]\n",
            " [1.69220e+04 5.13162e+02 7.69395e+00]\n",
            " [1.25849e+04 5.13186e+02 6.52205e+00]\n",
            " [9.35960e+03 5.12881e+02 5.87687e+00]\n",
            " [6.96087e+03 5.13169e+02 5.50921e+00]\n",
            " [5.17690e+03 5.13856e+02 5.67559e+00]\n",
            " [3.85010e+03 5.14151e+02 6.07369e+00]\n",
            " [2.86341e+03 5.14556e+02 6.78119e+00]\n",
            " [2.12955e+03 5.15082e+02 7.97566e+00]\n",
            " [1.58381e+03 5.15775e+02 9.58158e+00]\n",
            " [1.17791e+03 5.16622e+02 1.17172e+01]\n",
            " [8.76024e+02 5.17737e+02 1.44578e+01]\n",
            " [6.51509e+02 5.19050e+02 1.79079e+01]\n",
            " [4.84549e+02 5.20705e+02 2.22102e+01]\n",
            " [3.60370e+02 5.22647e+02 2.77437e+01]\n",
            " [2.68005e+02 5.24733e+02 3.47463e+01]\n",
            " [1.99318e+02 5.26972e+02 4.39282e+01]\n",
            " [1.48237e+02 5.29652e+02 5.59802e+01]\n",
            " [1.10250e+02 5.32562e+02 7.21108e+01]\n",
            " [8.19936e+01 5.36386e+02 9.35259e+01]\n",
            " [6.09793e+01 5.41947e+02 1.22077e+02]\n",
            " [4.53517e+01 5.50273e+02 1.59519e+02]\n",
            " [3.37288e+01 5.62799e+02 2.08158e+02]\n",
            " [2.50842e+01 5.81900e+02 2.70492e+02]\n",
            " [1.86553e+01 6.10259e+02 3.48298e+02]\n",
            " [1.38746e+01 6.48978e+02 4.43507e+02]\n",
            " [1.03188e+01 7.02872e+02 5.62302e+02]\n",
            " [7.67410e+00 7.76829e+02 7.07450e+02]\n",
            " [5.70749e+00 8.81115e+02 8.85107e+02]\n",
            " [4.24474e+00 1.02911e+03 1.10598e+03]\n",
            " [3.15689e+00 1.23738e+03 1.34983e+03]\n",
            " [2.34786e+00 1.52271e+03 1.61313e+03]\n",
            " [1.74614e+00 1.90366e+03 1.86303e+03]\n",
            " [1.29861e+00 2.36650e+03 2.08256e+03]\n",
            " [9.65840e-01 2.86024e+03 2.22111e+03]\n",
            " [7.18283e-01 3.39593e+03 2.29923e+03]\n",
            " [5.34201e-01 3.88668e+03 2.29935e+03]\n",
            " [3.97296e-01 4.35377e+03 2.28996e+03]\n",
            " [2.95477e-01 4.82254e+03 2.28127e+03]\n",
            " [2.19748e-01 5.22677e+03 2.29030e+03]\n",
            " [1.63429e-01 5.62642e+03 2.32805e+03]\n",
            " [1.21549e-01 6.04917e+03 2.41999e+03]\n",
            " [9.03947e-02 6.53358e+03 2.51117e+03]\n",
            " [6.72280e-02 6.98722e+03 2.91021e+03]\n",
            " [4.99995e-02 7.23380e+03 2.93667e+03]]\n",
            "[1.]\n",
            "\n",
            "Train Test Dimensions:\n",
            "------------------------------------\n",
            "shape of training set (126, 50, 3) (126, 1)\n",
            "shape of testing set (14, 50, 3) (14, 1)\n"
          ]
        }
      ]
    },
    {
      "cell_type": "code",
      "source": [
        "from tensorflow import keras\n",
        "\n"
      ],
      "metadata": {
        "id": "ysm1zZ-IjZ3o"
      },
      "execution_count": 5,
      "outputs": []
    },
    {
      "cell_type": "code",
      "source": [
        "#Create a sequencial model in Keras\n",
        "model = tf.keras.models.Sequential()"
      ],
      "metadata": {
        "id": "GlsVMt2wjaXH"
      },
      "execution_count": 6,
      "outputs": []
    },
    {
      "cell_type": "code",
      "source": [
        "#Add the first hidden layer\n",
        "model.add(keras.layers.Dense(128,         #Number of nodes\n",
        "                        input_shape=(50,3), #Number of input variables\n",
        "                        name='Hidden-Layer-1', #Logical name\n",
        "                        activation='relu'))    #activation function\n",
        "\n",
        "#Add a second hidden layer\n",
        "model.add(keras.layers.Dense(128,\n",
        "                              name='Hidden-Layer-2',\n",
        "                              activation='relu'))\n",
        "\n",
        "model.add(tf.keras.layers.Conv1D(\n",
        "    2,3,activation='relu'\n",
        "))\n",
        "model.add(tf.keras.layers.Flatten())\n",
        "\n",
        "#Add a second hidden layer\n",
        "model.add(keras.layers.Dense(128,\n",
        "                              name='Hidden-Layer-3',\n",
        "                              activation='relu'))\n",
        "\n",
        "\n",
        "\n",
        "#Add a second hidden layer\n",
        "model.add(keras.layers.Dense(128,\n",
        "                              name='Hidden-Layer-4',\n",
        "                              activation='relu'))\n",
        "\n",
        "\n"
      ],
      "metadata": {
        "id": "ETzVjDvkjdTf"
      },
      "execution_count": 7,
      "outputs": []
    },
    {
      "cell_type": "code",
      "source": [
        "model.add(keras.layers.Dense(1,\n",
        "                             name='Output-Layer',\n",
        "                             activation='sigmoid'))\n",
        "\n",
        "#model.summary()"
      ],
      "metadata": {
        "id": "laqcu6Fqjfd1"
      },
      "execution_count": 8,
      "outputs": []
    },
    {
      "cell_type": "code",
      "source": [
        "#Compile the model with loss & metrics\n",
        "model.compile(loss= tf.keras.losses.BinaryCrossentropy() ,\n",
        "              metrics=['accuracy'])"
      ],
      "metadata": {
        "id": "CbUMQ0AAj3zK"
      },
      "execution_count": 9,
      "outputs": []
    },
    {
      "cell_type": "code",
      "source": [
        "#Make it verbose so we can see the progress\n",
        "VERBOSE=1\n",
        "\n",
        "#Setup Hyper Parameters for training\n",
        "\n",
        "#Set Batch size\n",
        "BATCH_SIZE=10\n",
        "#Set number of epochs\n",
        "EPOCHS=20\n",
        "#Set validation split. 20% of the training data will be used for validation\n",
        "#after each epoch\n",
        "VALIDATION_SPLIT=0.2\n",
        "\n",
        "print(\"\\nTraining Progress:\\n------------------------------------\")\n",
        "#Fit the model. This will perform the entire training cycle, including\n",
        "#forward propagation, loss computation, backward propagation and gradient descent.\n",
        "#Execute for the specified batch sizes and epoch\n",
        "#Perform validation after each epoch \n",
        "history=model.fit(X_train,\n",
        "          Y_train,\n",
        "          batch_size=BATCH_SIZE,\n",
        "          epochs=EPOCHS,\n",
        "          verbose=VERBOSE,\n",
        "          validation_split=VALIDATION_SPLIT)"
      ],
      "metadata": {
        "colab": {
          "base_uri": "https://localhost:8080/"
        },
        "id": "S4-jxaSdj6qN",
        "outputId": "c3fc0c1e-bad4-4b0f-bd60-5e167cef970c"
      },
      "execution_count": 10,
      "outputs": [
        {
          "output_type": "stream",
          "name": "stdout",
          "text": [
            "\n",
            "Training Progress:\n",
            "------------------------------------\n",
            "Epoch 1/20\n",
            "10/10 [==============================] - 2s 56ms/step - loss: 92.3616 - accuracy: 0.7800 - val_loss: 5.1533e-10 - val_accuracy: 1.0000\n",
            "Epoch 2/20\n",
            "10/10 [==============================] - 0s 11ms/step - loss: 2.8228e-04 - accuracy: 1.0000 - val_loss: 3.7895e-10 - val_accuracy: 1.0000\n",
            "Epoch 3/20\n",
            "10/10 [==============================] - 0s 10ms/step - loss: 8.3995e-05 - accuracy: 1.0000 - val_loss: 3.0532e-10 - val_accuracy: 1.0000\n",
            "Epoch 4/20\n",
            "10/10 [==============================] - 0s 12ms/step - loss: 3.2042e-05 - accuracy: 1.0000 - val_loss: 2.5283e-10 - val_accuracy: 1.0000\n",
            "Epoch 5/20\n",
            "10/10 [==============================] - 0s 9ms/step - loss: 1.6789e-05 - accuracy: 1.0000 - val_loss: 2.1487e-10 - val_accuracy: 1.0000\n",
            "Epoch 6/20\n",
            "10/10 [==============================] - 0s 9ms/step - loss: 1.0073e-05 - accuracy: 1.0000 - val_loss: 1.7956e-10 - val_accuracy: 1.0000\n",
            "Epoch 7/20\n",
            "10/10 [==============================] - 0s 9ms/step - loss: 5.8796e-06 - accuracy: 1.0000 - val_loss: 1.5328e-10 - val_accuracy: 1.0000\n",
            "Epoch 8/20\n",
            "10/10 [==============================] - 0s 11ms/step - loss: 3.7059e-06 - accuracy: 1.0000 - val_loss: 1.3060e-10 - val_accuracy: 1.0000\n",
            "Epoch 9/20\n",
            "10/10 [==============================] - 0s 9ms/step - loss: 2.3024e-06 - accuracy: 1.0000 - val_loss: 1.0901e-10 - val_accuracy: 1.0000\n",
            "Epoch 10/20\n",
            "10/10 [==============================] - 0s 10ms/step - loss: 1.4094e-06 - accuracy: 1.0000 - val_loss: 8.8073e-11 - val_accuracy: 1.0000\n",
            "Epoch 11/20\n",
            "10/10 [==============================] - 0s 10ms/step - loss: 7.8154e-07 - accuracy: 1.0000 - val_loss: 7.3074e-11 - val_accuracy: 1.0000\n",
            "Epoch 12/20\n",
            "10/10 [==============================] - 0s 9ms/step - loss: 4.6266e-07 - accuracy: 1.0000 - val_loss: 5.8742e-11 - val_accuracy: 1.0000\n",
            "Epoch 13/20\n",
            "10/10 [==============================] - 0s 9ms/step - loss: 2.5048e-07 - accuracy: 1.0000 - val_loss: 4.8594e-11 - val_accuracy: 1.0000\n",
            "Epoch 14/20\n",
            "10/10 [==============================] - 0s 11ms/step - loss: 1.5356e-07 - accuracy: 1.0000 - val_loss: 4.0082e-11 - val_accuracy: 1.0000\n",
            "Epoch 15/20\n",
            "10/10 [==============================] - 0s 11ms/step - loss: 9.2293e-08 - accuracy: 1.0000 - val_loss: 3.2605e-11 - val_accuracy: 1.0000\n",
            "Epoch 16/20\n",
            "10/10 [==============================] - 0s 11ms/step - loss: 5.2412e-08 - accuracy: 1.0000 - val_loss: 2.8683e-11 - val_accuracy: 1.0000\n",
            "Epoch 17/20\n",
            "10/10 [==============================] - 0s 10ms/step - loss: 3.3913e-08 - accuracy: 1.0000 - val_loss: 2.6102e-11 - val_accuracy: 1.0000\n",
            "Epoch 18/20\n",
            "10/10 [==============================] - 0s 9ms/step - loss: 2.0166e-08 - accuracy: 1.0000 - val_loss: 2.3384e-11 - val_accuracy: 1.0000\n",
            "Epoch 19/20\n",
            "10/10 [==============================] - 0s 11ms/step - loss: 1.2690e-08 - accuracy: 1.0000 - val_loss: 2.2637e-11 - val_accuracy: 1.0000\n",
            "Epoch 20/20\n",
            "10/10 [==============================] - 0s 10ms/step - loss: 8.6691e-09 - accuracy: 1.0000 - val_loss: 2.2227e-11 - val_accuracy: 1.0000\n"
          ]
        }
      ]
    },
    {
      "cell_type": "code",
      "source": [
        "#Evaluate the model against the test dataset and print results\n",
        "print(\"\\nEvaluation against Test Dataset :\\n------------------------------------\")\n",
        "model.evaluate(X_test,Y_test)"
      ],
      "metadata": {
        "id": "qyfy9ghzj9yd",
        "colab": {
          "base_uri": "https://localhost:8080/"
        },
        "outputId": "6fe28165-289e-4148-fc9c-a4e8e74c656a"
      },
      "execution_count": 11,
      "outputs": [
        {
          "output_type": "stream",
          "name": "stdout",
          "text": [
            "\n",
            "Evaluation against Test Dataset :\n",
            "------------------------------------\n",
            "1/1 [==============================] - 0s 19ms/step - loss: 2.8936e-12 - accuracy: 1.0000\n"
          ]
        },
        {
          "output_type": "execute_result",
          "data": {
            "text/plain": [
              "[2.89357448592098e-12, 1.0]"
            ]
          },
          "metadata": {},
          "execution_count": 11
        }
      ]
    },
    {
      "cell_type": "code",
      "source": [
        "print(\"\\nAccuracy during Training :\\n------------------------------------\")\n",
        "import matplotlib.pyplot as plt\n",
        "\n",
        "#Plot accuracy of the model after each epoch.\n",
        "pd.DataFrame(history.history)[\"accuracy\"].plot(figsize=(8, 5))\n",
        "plt.title(\"Accuracy improvements with Epoch\")\n",
        "plt.show()"
      ],
      "metadata": {
        "colab": {
          "base_uri": "https://localhost:8080/",
          "height": 390
        },
        "id": "NljbLN33pTGq",
        "outputId": "813ddf2c-828f-47de-d339-7e7c9a58ae78"
      },
      "execution_count": 12,
      "outputs": [
        {
          "output_type": "stream",
          "name": "stdout",
          "text": [
            "\n",
            "Accuracy during Training :\n",
            "------------------------------------\n"
          ]
        },
        {
          "output_type": "display_data",
          "data": {
            "text/plain": [
              "<Figure size 576x360 with 1 Axes>"
            ],
            "image/png": "[encoded data removed]"
          },
          "metadata": {
            "needs_background": "light"
          }
        }
      ]
    }
  ]
}